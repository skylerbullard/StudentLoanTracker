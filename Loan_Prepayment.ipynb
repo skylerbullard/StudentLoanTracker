{
 "cells": [
  {
   "cell_type": "markdown",
   "id": "b63048f4",
   "metadata": {},
   "source": [
    "### plot graphs to break down how many payments until a loan is paid off"
   ]
  },
  {
   "cell_type": "code",
   "execution_count": 101,
   "id": "63c37a5c",
   "metadata": {},
   "outputs": [],
   "source": [
    "#import anything we might need\n",
    "import pandas as pd\n",
    "import matplotlib.pyplot as plt\n",
    "import numpy as np\n",
    "import seaborn as sns"
   ]
  },
  {
   "cell_type": "code",
   "execution_count": 102,
   "id": "5625ca3c",
   "metadata": {},
   "outputs": [],
   "source": [
    "#define fixed variables\n",
    "min_payment = 1000\n",
    "monthly_interest = .0036\n",
    "loan_amount = 60000"
   ]
  },
  {
   "cell_type": "code",
   "execution_count": 103,
   "id": "38b9ff31",
   "metadata": {},
   "outputs": [],
   "source": [
    "#declare list to add values to, preparing for mapping to dictionary\n",
    "loan_list = []"
   ]
  },
  {
   "cell_type": "code",
   "execution_count": 104,
   "id": "0bfb8657",
   "metadata": {},
   "outputs": [],
   "source": [
    "#add loan amount and interest acrrued as value\n",
    "while loan_amount > 0:\n",
    "    \n",
    "    #calculate interest\n",
    "    monthly_accrual = ( loan_amount * monthly_interest )\n",
    "    \n",
    "    #add interest to months total\n",
    "    loan_amount = loan_amount + monthly_accrual\n",
    "    \n",
    "    #subtract payment for following month's total\n",
    "    monthly_total = loan_amount - min_payment\n",
    "    \n",
    "    #update next month's starting amount\n",
    "    loan_amount = monthly_total\n",
    "    \n",
    "    #create key-value pai\n",
    "    pair = ( monthly_total , monthly_accrual )\n",
    "        \n",
    "    #add pair to list\n",
    "    loan_list.append( pair )"
   ]
  },
  {
   "cell_type": "code",
   "execution_count": 105,
   "id": "15b8de6d",
   "metadata": {},
   "outputs": [],
   "source": [
    "#create indeces for keys\n",
    "index_loans = [ num for num in range( 0 , len( loan_list ) ) ]"
   ]
  },
  {
   "cell_type": "code",
   "execution_count": 106,
   "id": "1c896d74",
   "metadata": {},
   "outputs": [],
   "source": [
    "#map pair to key into dictionary\n",
    "loan_dict = { index_loans[ i ]: loan_list[ i ] for i in range( len( loan_list ) ) }"
   ]
  },
  {
   "cell_type": "code",
   "execution_count": 107,
   "id": "dffca1c0",
   "metadata": {},
   "outputs": [],
   "source": [
    "#map dictionary into dataframe\n",
    "loan_df = pd.DataFrame.from_dict( loan_dict , orient = 'index' )"
   ]
  },
  {
   "cell_type": "code",
   "execution_count": 108,
   "id": "dee70299",
   "metadata": {},
   "outputs": [],
   "source": [
    "def plot_data( df ):\n",
    "    \n",
    "    '''\n",
    "    Visualize raw balance after each payment and estimate count of interest paid\n",
    "    \n",
    "    @param: DataFrame'''\n",
    "    \n",
    "    plt.figure( figsize = (14,6))\n",
    "    \n",
    "    plt.subplot( 1 , 2 , 1 )\n",
    "    df[ 0 ].plot()\n",
    "    plt.ylabel( 'Balance' )\n",
    "    plt.ylabel( 'Monthly Payment Count' )\n",
    "    \n",
    "    plt.subplot( 1 , 2 , 2 )\n",
    "    sns.histplot( data = loan_df[ 1 ] )\n",
    "    plt.xlabel( 'Accrued Interest' )\n",
    "    plt.ylabel( 'Interest Paid Count' )\n",
    "    \n",
    "    plt.show()"
   ]
  },
  {
   "cell_type": "code",
   "execution_count": 109,
   "id": "bbf686f0",
   "metadata": {},
   "outputs": [
    {
     "data": {
      "image/png": "[encoded data removed]",
      "text/plain": [
       "<Figure size 1008x432 with 2 Axes>"
      ]
     },
     "metadata": {
      "needs_background": "light"
     },
     "output_type": "display_data"
    }
   ],
   "source": [
    "plot_data( loan_df )"
   ]
  },
  {
   "cell_type": "code",
   "execution_count": null,
   "id": "3ccfd278",
   "metadata": {},
   "outputs": [],
   "source": []
  }
 ],
 "metadata": {
  "kernelspec": {
   "display_name": "Python 3 (ipykernel)",
   "language": "python",
   "name": "python3"
  },
  "language_info": {
   "codemirror_mode": {
    "name": "ipython",
    "version": 3
   },
   "file_extension": ".py",
   "mimetype": "text/x-python",
   "name": "python",
   "nbconvert_exporter": "python",
   "pygments_lexer": "ipython3",
   "version": "3.9.7"
  }
 },
 "nbformat": 4,
 "nbformat_minor": 5
}
